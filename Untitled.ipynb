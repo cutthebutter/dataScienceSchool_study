{
 "cells": [
  {
   "cell_type": "code",
   "execution_count": 3,
   "id": "f1bd0f63",
   "metadata": {},
   "outputs": [
    {
     "data": {
      "text/plain": [
       "500000000"
      ]
     },
     "execution_count": 3,
     "metadata": {},
     "output_type": "execute_result"
    }
   ],
   "source": [
    "#연습문제 2.21\n",
    "#5e8\n",
    "5*(10**8)"
   ]
  },
  {
   "cell_type": "code",
   "execution_count": 4,
   "id": "c448478c",
   "metadata": {},
   "outputs": [
    {
     "data": {
      "text/plain": [
       "'0b1101'"
      ]
     },
     "execution_count": 4,
     "metadata": {},
     "output_type": "execute_result"
    }
   ],
   "source": [
    "#2진법으로 나타내는 법\n",
    "bin(13)"
   ]
  },
  {
   "cell_type": "code",
   "execution_count": 6,
   "id": "7b0e30b3",
   "metadata": {},
   "outputs": [
    {
     "data": {
      "text/plain": [
       "0.1000000000000000055511151231257827021181583404541015625"
      ]
     },
     "execution_count": 6,
     "metadata": {},
     "output_type": "execute_result"
    }
   ],
   "source": [
    "#소수 55가리까지 표현\n",
    "%precision 55\n",
    "0.1"
   ]
  },
  {
   "cell_type": "code",
   "execution_count": 7,
   "id": "7c6a3247",
   "metadata": {},
   "outputs": [
    {
     "data": {
      "text/plain": [
       "'%r'"
      ]
     },
     "execution_count": 7,
     "metadata": {},
     "output_type": "execute_result"
    }
   ],
   "source": [
    "#precision을 취소하고 원래로돌아가기\n",
    "%precision %r"
   ]
  },
  {
   "cell_type": "code",
   "execution_count": 8,
   "id": "5af4aeaf",
   "metadata": {},
   "outputs": [
    {
     "data": {
      "text/plain": [
       "0.1"
      ]
     },
     "execution_count": 8,
     "metadata": {},
     "output_type": "execute_result"
    }
   ],
   "source": [
    "0.1"
   ]
  },
  {
   "cell_type": "code",
   "execution_count": 11,
   "id": "ea25d131",
   "metadata": {},
   "outputs": [
    {
     "data": {
      "text/plain": [
       "False"
      ]
     },
     "execution_count": 11,
     "metadata": {},
     "output_type": "execute_result"
    }
   ],
   "source": [
    "0.1 +0.2 == 0.3\n",
    "#컴퓨터에서 실수를 계산할 때는 항상 미세한 오차를 가질수 있어 주의\n"
   ]
  },
  {
   "cell_type": "code",
   "execution_count": 12,
   "id": "ca29af63",
   "metadata": {},
   "outputs": [
    {
     "data": {
      "text/plain": [
       "True"
      ]
     },
     "execution_count": 12,
     "metadata": {},
     "output_type": "execute_result"
    }
   ],
   "source": [
    "#round로 유효숫자를 지정한 반올림 한 후에 비교\n",
    "round(0.1 + 0.2 , 5) == round(0.3 , 5)"
   ]
  },
  {
   "cell_type": "markdown",
   "id": "5596601e",
   "metadata": {},
   "source": [
    "### enumerate\n",
    "반복문에서 append 메서드를 쓰면 계산속도가 저하됨, 미리 저장공간을 만들어 놓고 해당 위치에 계산결과를 갱신, 리스트의 원소를 반복하면서 동시에 인덱스 값도 생성"
   ]
  },
  {
   "cell_type": "code",
   "execution_count": 1,
   "id": "0279304e",
   "metadata": {},
   "outputs": [
    {
     "name": "stdout",
     "output_type": "stream",
     "text": [
      "i = 0, e=a\n",
      "i = 1, e=b\n",
      "i = 2, e=c\n"
     ]
    }
   ],
   "source": [
    "for i, e in enumerate([\"a\",\"b\",\"c\"]):\n",
    "    print(\"i = %d, e=%s\"%(i,e))"
   ]
  },
  {
   "cell_type": "code",
   "execution_count": 2,
   "id": "66f723f6",
   "metadata": {},
   "outputs": [
    {
     "data": {
      "text/plain": [
       "[185, 175, 185, 170, 185, 200, 175, 155, 180, 170]"
      ]
     },
     "execution_count": 2,
     "metadata": {},
     "output_type": "execute_result"
    }
   ],
   "source": [
    "s = [0, 0, 0, 0, 0, 0, 0, 0, 0, 0]\n",
    "a1 = [90, 85, 95, 80, 90, 100, 85, 75, 85, 80]\n",
    "a2 = [95, 90, 90, 90, 95, 100, 90, 80, 95, 90]\n",
    "for i, (a1i, a2i) in enumerate(zip(a1, a2)):\n",
    "    s[i] = a1i + a2i\n",
    "s"
   ]
  },
  {
   "cell_type": "markdown",
   "id": "3b76b4e5",
   "metadata": {},
   "source": [
    "### zip\n",
    "두개의 리스트를 합쳐서 각 리스트 원소의 쌍을 원소로 가지는 하나의 리스트를 만듦, 명시적으로 list명령을 사용해야 리스트가 됨"
   ]
  },
  {
   "cell_type": "code",
   "execution_count": 3,
   "id": "cf513cf0",
   "metadata": {},
   "outputs": [
    {
     "data": {
      "text/plain": [
       "[185, 175, 185, 170, 185, 200, 175, 155, 180, 170]"
      ]
     },
     "execution_count": 3,
     "metadata": {},
     "output_type": "execute_result"
    }
   ],
   "source": [
    "s=[]\n",
    "for a1i, a2i in zip(a1,a2):\n",
    "    s.append(a1i+a2i)\n",
    "s"
   ]
  },
  {
   "cell_type": "markdown",
   "id": "4531da8f",
   "metadata": {},
   "source": [
    "zip 함수를 사용할 때 리스트의 리스트 인수를 하나만 넣고 인수 앞에 *를 붙이면 리스트 쌍이 바뀜 : transpose 됨"
   ]
  },
  {
   "cell_type": "code",
   "execution_count": 4,
   "id": "f6f1a811",
   "metadata": {},
   "outputs": [
    {
     "data": {
      "text/plain": [
       "[(90, 95),\n",
       " (85, 90),\n",
       " (95, 90),\n",
       " (80, 90),\n",
       " (90, 95),\n",
       " (100, 100),\n",
       " (85, 90),\n",
       " (75, 80),\n",
       " (85, 95),\n",
       " (80, 90)]"
      ]
     },
     "execution_count": 4,
     "metadata": {},
     "output_type": "execute_result"
    }
   ],
   "source": [
    "a12 = list(zip(a1,a2))\n",
    "a12"
   ]
  },
  {
   "cell_type": "code",
   "execution_count": 7,
   "id": "4acc24a9",
   "metadata": {},
   "outputs": [
    {
     "data": {
      "text/plain": [
       "[(90, 85, 95, 80, 90, 100, 85, 75, 85, 80),\n",
       " (95, 90, 90, 90, 95, 100, 90, 80, 95, 90)]"
      ]
     },
     "execution_count": 7,
     "metadata": {},
     "output_type": "execute_result"
    }
   ],
   "source": [
    "a3= list(zip(*a12))\n",
    "a3"
   ]
  },
  {
   "cell_type": "code",
   "execution_count": 8,
   "id": "8a9299c3",
   "metadata": {},
   "outputs": [
    {
     "data": {
      "text/plain": [
       "[(90, 95),\n",
       " (85, 90),\n",
       " (95, 90),\n",
       " (80, 90),\n",
       " (90, 95),\n",
       " (100, 100),\n",
       " (85, 90),\n",
       " (75, 80),\n",
       " (85, 95),\n",
       " (80, 90)]"
      ]
     },
     "execution_count": 8,
     "metadata": {},
     "output_type": "execute_result"
    }
   ],
   "source": [
    "a4 = list(zip(*a3))\n",
    "a4"
   ]
  },
  {
   "cell_type": "code",
   "execution_count": 11,
   "id": "6ef9f50f",
   "metadata": {},
   "outputs": [
    {
     "name": "stdout",
     "output_type": "stream",
     "text": [
      "(a,10)\n",
      "(b,20)\n"
     ]
    }
   ],
   "source": [
    "x = {\"a\": 10, \"b\": 20}\n",
    "\n",
    "for k,v in x.items():\n",
    "    print(f\"({k},{v})\")"
   ]
  },
  {
   "cell_type": "code",
   "execution_count": null,
   "id": "86437c8a",
   "metadata": {},
   "outputs": [],
   "source": []
  }
 ],
 "metadata": {
  "kernelspec": {
   "display_name": "Python 3",
   "language": "python",
   "name": "python3"
  },
  "language_info": {
   "codemirror_mode": {
    "name": "ipython",
    "version": 3
   },
   "file_extension": ".py",
   "mimetype": "text/x-python",
   "name": "python",
   "nbconvert_exporter": "python",
   "pygments_lexer": "ipython3",
   "version": "3.8.8"
  }
 },
 "nbformat": 4,
 "nbformat_minor": 5
}
