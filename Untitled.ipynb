{
 "cells": [
  {
   "cell_type": "code",
   "execution_count": 3,
   "id": "f1bd0f63",
   "metadata": {},
   "outputs": [
    {
     "data": {
      "text/plain": [
       "500000000"
      ]
     },
     "execution_count": 3,
     "metadata": {},
     "output_type": "execute_result"
    }
   ],
   "source": [
    "#연습문제 2.21\n",
    "#5e8\n",
    "5*(10**8)"
   ]
  },
  {
   "cell_type": "code",
   "execution_count": 4,
   "id": "c448478c",
   "metadata": {},
   "outputs": [
    {
     "data": {
      "text/plain": [
       "'0b1101'"
      ]
     },
     "execution_count": 4,
     "metadata": {},
     "output_type": "execute_result"
    }
   ],
   "source": [
    "#2진법으로 나타내는 법\n",
    "bin(13)"
   ]
  },
  {
   "cell_type": "code",
   "execution_count": 6,
   "id": "7b0e30b3",
   "metadata": {},
   "outputs": [
    {
     "data": {
      "text/plain": [
       "0.1000000000000000055511151231257827021181583404541015625"
      ]
     },
     "execution_count": 6,
     "metadata": {},
     "output_type": "execute_result"
    }
   ],
   "source": [
    "#소수 55가리까지 표현\n",
    "%precision 55\n",
    "0.1"
   ]
  },
  {
   "cell_type": "code",
   "execution_count": 7,
   "id": "7c6a3247",
   "metadata": {},
   "outputs": [
    {
     "data": {
      "text/plain": [
       "'%r'"
      ]
     },
     "execution_count": 7,
     "metadata": {},
     "output_type": "execute_result"
    }
   ],
   "source": [
    "#precision을 취소하고 원래로돌아가기\n",
    "%precision %r"
   ]
  },
  {
   "cell_type": "code",
   "execution_count": 8,
   "id": "5af4aeaf",
   "metadata": {},
   "outputs": [
    {
     "data": {
      "text/plain": [
       "0.1"
      ]
     },
     "execution_count": 8,
     "metadata": {},
     "output_type": "execute_result"
    }
   ],
   "source": [
    "0.1"
   ]
  },
  {
   "cell_type": "code",
   "execution_count": 11,
   "id": "ea25d131",
   "metadata": {},
   "outputs": [
    {
     "data": {
      "text/plain": [
       "False"
      ]
     },
     "execution_count": 11,
     "metadata": {},
     "output_type": "execute_result"
    }
   ],
   "source": [
    "0.1 +0.2 == 0.3\n",
    "#컴퓨터에서 실수를 계산할 때는 항상 미세한 오차를 가질수 있어 주의\n"
   ]
  },
  {
   "cell_type": "code",
   "execution_count": 12,
   "id": "ca29af63",
   "metadata": {},
   "outputs": [
    {
     "data": {
      "text/plain": [
       "True"
      ]
     },
     "execution_count": 12,
     "metadata": {},
     "output_type": "execute_result"
    }
   ],
   "source": [
    "#round로 유효숫자를 지정한 반올림 한 후에 비교\n",
    "round(0.1 + 0.2 , 5) == round(0.3 , 5)"
   ]
  },
  {
   "cell_type": "code",
   "execution_count": null,
   "id": "65b8d2de",
   "metadata": {},
   "outputs": [],
   "source": []
  }
 ],
 "metadata": {
  "kernelspec": {
   "display_name": "Python 3",
   "language": "python",
   "name": "python3"
  },
  "language_info": {
   "codemirror_mode": {
    "name": "ipython",
    "version": 3
   },
   "file_extension": ".py",
   "mimetype": "text/x-python",
   "name": "python",
   "nbconvert_exporter": "python",
   "pygments_lexer": "ipython3",
   "version": "3.8.8"
  }
 },
 "nbformat": 4,
 "nbformat_minor": 5
}
