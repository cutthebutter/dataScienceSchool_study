{
 "cells": [
  {
   "cell_type": "markdown",
   "id": "2eab1f74",
   "metadata": {},
   "source": [
    "### 2.4.2 \n",
    "a, b 두 개의 변수에 123456과 7890이라는 값을 넣고 이 변수를 사용하여 다음과 같이 세로셈으로 덧셈 결과를 출력하는 코드를 만들어라. 천의 자리 쉼표를 표시해야 한다."
   ]
  },
  {
   "cell_type": "code",
   "execution_count": 2,
   "id": "d3803d2a",
   "metadata": {},
   "outputs": [
    {
     "name": "stdout",
     "output_type": "stream",
     "text": [
      "1111 444\n",
      "     1111\n",
      "+     444\n",
      "---------\n",
      "     1555\n"
     ]
    }
   ],
   "source": [
    "a, b = map(int, input().split())\n",
    "print(\"%9d\"%a)\n",
    "print(\"+\",\"%7d\"%b)\n",
    "print(\"-\"*9)\n",
    "print(\"%9d\"%(a+b))"
   ]
  },
  {
   "cell_type": "markdown",
   "id": "f029db84",
   "metadata": {},
   "source": [
    "### 2.4.3 \n",
    "연습 문제 1, 2를 format 방법으로 다시 풀어라."
   ]
  },
  {
   "cell_type": "code",
   "execution_count": 8,
   "id": "0c11a5fc",
   "metadata": {},
   "outputs": [
    {
     "name": "stdout",
     "output_type": "stream",
     "text": [
      "1111 6666\n",
      "  1,111\n",
      "+  6,666\n",
      "--------\n",
      "   7,777\n"
     ]
    }
   ],
   "source": [
    "a, b = map(int, input().split())\n",
    "print(\"{:>7,}\".format(a))\n",
    "print(\"+\"+\"{:>7,}\".format(b))\n",
    "print(\"-\"*8)\n",
    "print(\"{:>8,}\".format(a+b))"
   ]
  },
  {
   "cell_type": "markdown",
   "id": "76ba55b0",
   "metadata": {},
   "source": [
    "### 2.4.4\n",
    "연습 문제 1, 2를 f 문자열 방법으로 다시 풀어라"
   ]
  },
  {
   "cell_type": "code",
   "execution_count": 12,
   "id": "a9d1bc5b",
   "metadata": {},
   "outputs": [
    {
     "name": "stdout",
     "output_type": "stream",
     "text": [
      "1111 5555\n",
      "     1,111\n",
      "*    5,555\n",
      "----------\n",
      " 6,171,605\n"
     ]
    }
   ],
   "source": [
    "a, b = map(int, input().split())\n",
    "print(f\"{a:>10,}\")\n",
    "print('*'+f\"{b:>9,}\")\n",
    "print(\"-\"*10)\n",
    "print(f\"{(a*b):>10,}\")"
   ]
  },
  {
   "cell_type": "markdown",
   "id": "b30c7fce",
   "metadata": {},
   "source": [
    "### 2.7.6\n",
    "프랑스의 수학자 페르마(Ferma)의 마지막 정리는 다음과 같다.\n",
    "\n",
    "> n이 2보다 큰 자연수인 경우에, 𝑎𝑛+𝑏𝑛=𝑐𝑛 이 되는 자연수 𝑎, 𝑏, 𝑐는 존재하지 않는다.\n",
    "\n",
    "n이 3이고 a, b, c 가 1부터 10까지의 자연수일 때 페르마의 마지막 정리가 사실임을 중첩 반복문을 써서 보인다. (힌트: 1부터 10까지 반복되는 for 반복문이 3개 중첩되어야 한다.)"
   ]
  },
  {
   "cell_type": "code",
   "execution_count": 14,
   "id": "846f2782",
   "metadata": {},
   "outputs": [
    {
     "name": "stdout",
     "output_type": "stream",
     "text": [
      "페르마 정리가 맞다\n"
     ]
    }
   ],
   "source": [
    "import math\n",
    "\n",
    "for i in range(1,10):\n",
    "    for j in range(1,10):\n",
    "        x=i**3+j**3\n",
    "        for k in range(1,10):\n",
    "            if k**3 == x:\n",
    "                print(\"페르마 정리 불성립\")\n",
    "                \n",
    "print(\"페르마 정리가 맞다\")\n",
    "        \n",
    "        "
   ]
  },
  {
   "cell_type": "markdown",
   "id": "152b56b5",
   "metadata": {},
   "source": [
    "### 2.7.7\n",
    "1 / 1+(1+2) / 1+(1+2)+(1+2+3) / ..... 의 n번째 수열의 값을 구함"
   ]
  },
  {
   "cell_type": "markdown",
   "id": "d71e052b",
   "metadata": {},
   "source": [
    "### 2.10.1"
   ]
  },
  {
   "cell_type": "code",
   "execution_count": 22,
   "id": "e4155ef4",
   "metadata": {},
   "outputs": [
    {
     "data": {
      "text/plain": [
       "3.3636363636363638"
      ]
     },
     "execution_count": 22,
     "metadata": {},
     "output_type": "execute_result"
    }
   ],
   "source": [
    "x = [4,3,2,3,4]\n",
    "w = [3,3,1,2,2]\n",
    "score = 0\n",
    "grade = 0\n",
    "for i, (xi,wi) in enumerate(zip(x,w)):\n",
    "    score += xi*wi\n",
    "    grade += wi\n",
    "mean = score/grade\n",
    "mean    "
   ]
  },
  {
   "cell_type": "code",
   "execution_count": 24,
   "id": "10a03fa0",
   "metadata": {},
   "outputs": [
    {
     "data": {
      "text/plain": [
       "1.6666666666666667"
      ]
     },
     "execution_count": 24,
     "metadata": {},
     "output_type": "execute_result"
    }
   ],
   "source": [
    "x = [6,5,4,7,3,5]\n",
    "mean = sum(x)/len(x)\n",
    "first = 0\n",
    "for i in range(len(x)):\n",
    "    first += (x[i]-mean)**2\n",
    "var = first/len(x)\n",
    "var "
   ]
  },
  {
   "cell_type": "code",
   "execution_count": 26,
   "id": "781cc025",
   "metadata": {},
   "outputs": [
    {
     "data": {
      "text/plain": [
       "('길동', '철수', '영수', '방자')"
      ]
     },
     "execution_count": 26,
     "metadata": {},
     "output_type": "execute_result"
    }
   ],
   "source": [
    "x = [\n",
    "  [\"길동\", 90],\n",
    "  [\"철수\", 80],\n",
    "  [\"영수\", 70],\n",
    "  [\"방자\", 60],\n",
    "]\n",
    "\n",
    "y=list(zip(*x))\n",
    "name=y[0]\n",
    "name"
   ]
  },
  {
   "cell_type": "code",
   "execution_count": null,
   "id": "8468b6ce",
   "metadata": {},
   "outputs": [],
   "source": []
  }
 ],
 "metadata": {
  "kernelspec": {
   "display_name": "Python 3",
   "language": "python",
   "name": "python3"
  },
  "language_info": {
   "codemirror_mode": {
    "name": "ipython",
    "version": 3
   },
   "file_extension": ".py",
   "mimetype": "text/x-python",
   "name": "python",
   "nbconvert_exporter": "python",
   "pygments_lexer": "ipython3",
   "version": "3.8.8"
  }
 },
 "nbformat": 4,
 "nbformat_minor": 5
}
